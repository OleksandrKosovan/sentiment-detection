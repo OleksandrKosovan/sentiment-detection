{
 "cells": [
  {
   "cell_type": "code",
   "execution_count": 1,
   "metadata": {},
   "outputs": [],
   "source": [
    "from spacy.lang.uk.examples import sentences"
   ]
  },
  {
   "cell_type": "code",
   "execution_count": 2,
   "metadata": {},
   "outputs": [],
   "source": [
    "# pip install -U pymorphy2-dicts-uk\n",
    "import pymorphy2"
   ]
  },
  {
   "cell_type": "code",
   "execution_count": 3,
   "metadata": {},
   "outputs": [],
   "source": [
    "morph = pymorphy2.MorphAnalyzer(lang='uk')"
   ]
  },
  {
   "cell_type": "code",
   "execution_count": 4,
   "metadata": {},
   "outputs": [],
   "source": [
    "example = morph.parse('ґудзики')"
   ]
  },
  {
   "cell_type": "code",
   "execution_count": 5,
   "metadata": {},
   "outputs": [
    {
     "data": {
      "text/plain": [
       "[Parse(word='ґудзики', tag=OpencorporaTag('NOUN,inan plur,nomn'), normal_form='ґудзик', score=1.0, methods_stack=((DictionaryAnalyzer(), 'ґудзики', 8, 9),)),\n",
       " Parse(word='ґудзики', tag=OpencorporaTag('NOUN,inan plur,accs'), normal_form='ґудзик', score=1.0, methods_stack=((DictionaryAnalyzer(), 'ґудзики', 8, 12),)),\n",
       " Parse(word='ґудзики', tag=OpencorporaTag('NOUN,inan plur,voct'), normal_form='ґудзик', score=1.0, methods_stack=((DictionaryAnalyzer(), 'ґудзики', 8, 15),))]"
      ]
     },
     "execution_count": 5,
     "metadata": {},
     "output_type": "execute_result"
    }
   ],
   "source": [
    "example"
   ]
  },
  {
   "cell_type": "code",
   "execution_count": 6,
   "metadata": {},
   "outputs": [
    {
     "data": {
      "text/plain": [
       "'ґудзик'"
      ]
     },
     "execution_count": 6,
     "metadata": {},
     "output_type": "execute_result"
    }
   ],
   "source": [
    "example[0].normal_form"
   ]
  },
  {
   "cell_type": "code",
   "execution_count": 7,
   "metadata": {},
   "outputs": [],
   "source": [
    "example = morph.parse('працював')"
   ]
  },
  {
   "cell_type": "code",
   "execution_count": 8,
   "metadata": {},
   "outputs": [
    {
     "name": "stdout",
     "output_type": "stream",
     "text": [
      "Ніч :  ніч\n",
      "на :  на\n",
      "середу :  середа\n",
      "буде :  бути\n",
      "морозною. :  морозною.\n",
      "Чим :  що\n",
      "кращі :  кращий\n",
      "книги :  книга\n",
      "ти :  ти\n",
      "читав, :  читав,\n",
      "тим :  той\n",
      "гірше :  гірше\n",
      "спиш. :  спиш.\n",
      "Найстаріші :  найстаріший\n",
      "ґудзики, :  ґудзики,\n",
      "відомі :  відомий\n",
      "людству, :  людству,\n",
      "археологи :  археолог\n",
      "знайшли :  знайти\n",
      "в :  в\n",
      "долині :  долина\n",
      "ріки :  ріка\n",
      "Інд. :  інд.\n",
      "Слов'янське :  слов'янський\n",
      "слово :  слово\n",
      "«Україна» :  «україна»\n",
      "вперше :  вперше\n",
      "згадується :  згадуватися\n",
      "у :  у\n",
      "Київському :  київський\n",
      "літописному :  літописний\n",
      "зводі :  звід\n",
      "за :  за\n",
      "Іпатіївським :  іпатіївський\n",
      "списком :  список\n",
      "під :  під\n",
      "1187 :  1187\n",
      "роком. :  роком.\n",
      "Де :  де\n",
      "у :  у\n",
      "Києві :  кий\n",
      "найсмачніша :  найсмачніший\n",
      "кава? :  кава?\n",
      "Від :  від\n",
      "Нижнього :  нижній\n",
      "озера :  озеро\n",
      "довгими :  довгий\n",
      "дерев’яними :  дерев’яний\n",
      "сходами, :  сходами,\n",
      "над :  над\n",
      "якими :  який\n",
      "синьо :  синьо\n",
      "й :  й\n",
      "біло :  біла\n",
      "горіли :  горіти\n",
      "маленькі :  маленький\n",
      "коробочки-ліхтарики, :  коробочки-ліхтарики,\n",
      "підіймалися :  підійматися\n",
      "до :  до\n",
      "нього :  він\n",
      "двоє :  двоє\n",
      "стовусів: :  стовусів:\n",
      "найкращий :  найкращий\n",
      "друг :  друг\n",
      "Вертутій :  вертутий\n",
      "і :  і\n",
      "його :  йога\n",
      "дванадцятилітній :  дванадцятилітній\n",
      "онук :  онук\n",
      "Чублик. :  чублик.\n",
      "Китайський :  китайський\n",
      "космічний :  космічний\n",
      "зонд :  зонд\n",
      "\"Чан'е-4\" :  \"чан'е-4\"\n",
      "вперше :  вперше\n",
      "в :  в\n",
      "історії :  історія\n",
      "здійснив :  здійснити\n",
      "м'яку :  м'який\n",
      "посадку :  посадка\n",
      "на :  на\n",
      "зворотному :  зворотний\n",
      "боці :  бока\n",
      "Місяця. :  місяця.\n",
      "Коли :  коли\n",
      "до :  до\n",
      "губ :  губа\n",
      "твоїх :  твій\n",
      "лишається :  лишатися\n",
      "півподиху, :  півподиху,\n",
      "коли :  коли\n",
      "до :  до\n",
      "губ :  губа\n",
      "твоїх :  твій\n",
      "лишається :  лишатися\n",
      "півкроку :  півкроку\n",
      "– :  –\n",
      "зіниці :  зіниця\n",
      "твої :  твій\n",
      "виткані :  витканий\n",
      "із :  із\n",
      "подиву, :  подиву,\n",
      "в :  в\n",
      "очах :  око\n",
      "у :  у\n",
      "тебе :  ти\n",
      "синьо :  синьо\n",
      "і :  і\n",
      "широко. :  широко.\n",
      "Дорогу :  дорогий\n",
      "сестру :  сестра\n",
      "збираю :  збирати\n",
      "у :  у\n",
      "дорогу, :  дорогу,\n",
      "а :  а\n",
      "брати :  брат\n",
      "вирішили :  вирішити\n",
      "не :  не\n",
      "брати :  брат\n",
      "машину. :  машину.\n"
     ]
    }
   ],
   "source": [
    "for sentence in sentences:\n",
    "    for word in sentence.split(\" \"):\n",
    "        print(word, \": \", morph.parse(word)[0].normal_form)"
   ]
  },
  {
   "cell_type": "code",
   "execution_count": 15,
   "metadata": {},
   "outputs": [
    {
     "data": {
      "text/plain": [
       "\"Слов'янське слово «Україна» вперше згадується у Київському літописному зводі за Іпатіївським списком під 1187 роком.\""
      ]
     },
     "execution_count": 15,
     "metadata": {},
     "output_type": "execute_result"
    }
   ],
   "source": [
    "sentences[3]"
   ]
  },
  {
   "cell_type": "code",
   "execution_count": 23,
   "metadata": {},
   "outputs": [
    {
     "data": {
      "text/plain": [
       "'Дорогу сестру збираю у дорогу а брати вирішили не брати машину'"
      ]
     },
     "execution_count": 23,
     "metadata": {},
     "output_type": "execute_result"
    }
   ],
   "source": [
    "# https://towardsdatascience.com/how-to-efficiently-remove-punctuations-from-a-string-899ad4a059fb\n",
    "\n",
    "# importing a string of punctuation and digits to remove\n",
    "import string\n",
    "exclist = string.punctuation + string.digits + \"\"\n",
    "# remove punctuations and digits from oldtext\n",
    "\n",
    "oldtext = sentences[8]\n",
    "table_ = str.maketrans('', '', exclist)\n",
    "newtext = oldtext.translate(table_)\n",
    "newtext"
   ]
  },
  {
   "cell_type": "code",
   "execution_count": 28,
   "metadata": {},
   "outputs": [
    {
     "data": {
      "text/plain": [
       "'!\"#$%&\\'()*+,-./:;<=>?@[\\\\]^_`{|}~0123456789'"
      ]
     },
     "execution_count": 28,
     "metadata": {},
     "output_type": "execute_result"
    }
   ],
   "source": [
    "exclist"
   ]
  },
  {
   "cell_type": "code",
   "execution_count": 30,
   "metadata": {},
   "outputs": [],
   "source": [
    "def remove_punctuation(text):\n",
    "    \"return text without punctuation\"\n",
    "    import string\n",
    "    exclist = string.punctuation + string.digits + \"«»\"\n",
    "    table_ = str.maketrans('', '', exclist)\n",
    "    return text.translate(table_)"
   ]
  },
  {
   "cell_type": "code",
   "execution_count": 31,
   "metadata": {},
   "outputs": [
    {
     "data": {
      "text/plain": [
       "'Словянське слово Україна вперше згадується у Київському літописному зводі за Іпатіївським списком під  роком'"
      ]
     },
     "execution_count": 31,
     "metadata": {},
     "output_type": "execute_result"
    }
   ],
   "source": [
    "# test\n",
    "\n",
    "text = sentences[3]\n",
    "remove_punctuation(text)"
   ]
  },
  {
   "cell_type": "code",
   "execution_count": null,
   "metadata": {},
   "outputs": [],
   "source": []
  },
  {
   "cell_type": "code",
   "execution_count": 27,
   "metadata": {},
   "outputs": [
    {
     "name": "stdout",
     "output_type": "stream",
     "text": [
      "Ніч :  ніч\n",
      "на :  на\n",
      "середу :  середа\n",
      "буде :  бути\n",
      "морозною :  морозний\n",
      "Чим :  що\n",
      "кращі :  кращий\n",
      "книги :  книга\n",
      "ти :  ти\n",
      "читав :  читати\n",
      "тим :  той\n",
      "гірше :  гірше\n",
      "спиш :  спати\n",
      "Найстаріші :  найстаріший\n",
      "ґудзики :  ґудзик\n",
      "відомі :  відомий\n",
      "людству :  людство\n",
      "археологи :  археолог\n",
      "знайшли :  знайти\n",
      "в :  в\n",
      "долині :  долина\n",
      "ріки :  ріка\n",
      "Інд :  інд\n",
      "Словянське :  словянський\n",
      "слово :  слово\n",
      "«Україна» :  «україна»\n",
      "вперше :  вперше\n",
      "згадується :  згадуватися\n",
      "у :  у\n",
      "Київському :  київський\n",
      "літописному :  літописний\n",
      "зводі :  звід\n",
      "за :  за\n",
      "Іпатіївським :  іпатіївський\n",
      "списком :  список\n",
      "під :  під\n",
      " :  \n",
      "роком :  рок\n",
      "Де :  де\n",
      "у :  у\n",
      "Києві :  кий\n",
      "найсмачніша :  найсмачніший\n",
      "кава :  кава\n",
      "Від :  від\n",
      "Нижнього :  нижній\n",
      "озера :  озеро\n",
      "довгими :  довгий\n",
      "дерев’яними :  дерев’яний\n",
      "сходами :  сход\n",
      "над :  над\n",
      "якими :  який\n",
      "синьо :  синьо\n",
      "й :  й\n",
      "біло :  біла\n",
      "горіли :  горіти\n",
      "маленькі :  маленький\n",
      "коробочкиліхтарики :  коробочкиліхтарик\n",
      "підіймалися :  підійматися\n",
      "до :  до\n",
      "нього :  він\n",
      "двоє :  двоє\n",
      "стовусів :  стовус\n",
      "найкращий :  найкращий\n",
      "друг :  друг\n",
      "Вертутій :  вертутий\n",
      "і :  і\n",
      "його :  йога\n",
      "дванадцятилітній :  дванадцятилітній\n",
      "онук :  онук\n",
      "Чублик :  чублик\n",
      "Китайський :  китайський\n",
      "космічний :  космічний\n",
      "зонд :  зонд\n",
      "Чане :  чан\n",
      "вперше :  вперше\n",
      "в :  в\n",
      "історії :  історія\n",
      "здійснив :  здійснити\n",
      "мяку :  мяк\n",
      "посадку :  посадка\n",
      "на :  на\n",
      "зворотному :  зворотний\n",
      "боці :  бока\n",
      "Місяця :  місяць\n",
      "Коли :  коли\n",
      "до :  до\n",
      "губ :  губа\n",
      "твоїх :  твій\n",
      "лишається :  лишатися\n",
      "півподиху :  півподих\n",
      "коли :  коли\n",
      "до :  до\n",
      "губ :  губа\n",
      "твоїх :  твій\n",
      "лишається :  лишатися\n",
      "півкроку :  півкроку\n",
      "– :  –\n",
      "зіниці :  зіниця\n",
      "твої :  твій\n",
      "виткані :  витканий\n",
      "із :  із\n",
      "подиву :  подив\n",
      "в :  в\n",
      "очах :  око\n",
      "у :  у\n",
      "тебе :  ти\n",
      "синьо :  синьо\n",
      "і :  і\n",
      "широко :  широко\n",
      "Дорогу :  дорогий\n",
      "сестру :  сестра\n",
      "збираю :  збирати\n",
      "у :  у\n",
      "дорогу :  дорогий\n",
      "а :  а\n",
      "брати :  брат\n",
      "вирішили :  вирішити\n",
      "не :  не\n",
      "брати :  брат\n",
      "машину :  машина\n"
     ]
    }
   ],
   "source": [
    "for sentence in sentences:\n",
    "    sentence = remove_punctuation(sentence)\n",
    "    for word in sentence.split(\" \"):\n",
    "        print(word, \": \", morph.parse(word)[0].normal_form)"
   ]
  },
  {
   "cell_type": "code",
   "execution_count": 32,
   "metadata": {},
   "outputs": [],
   "source": [
    "def lemmatization(token):\n",
    "    \"return lemma\"\n",
    "    return morph.parse(token)[0].normal_form"
   ]
  },
  {
   "cell_type": "code",
   "execution_count": 33,
   "metadata": {},
   "outputs": [
    {
     "data": {
      "text/plain": [
       "'дорогий'"
      ]
     },
     "execution_count": 33,
     "metadata": {},
     "output_type": "execute_result"
    }
   ],
   "source": [
    "test = \"Дорогу\"\n",
    "lemmatization(test)"
   ]
  },
  {
   "cell_type": "code",
   "execution_count": null,
   "metadata": {},
   "outputs": [],
   "source": []
  },
  {
   "cell_type": "code",
   "execution_count": null,
   "metadata": {},
   "outputs": [],
   "source": []
  },
  {
   "cell_type": "code",
   "execution_count": null,
   "metadata": {},
   "outputs": [],
   "source": []
  },
  {
   "cell_type": "code",
   "execution_count": null,
   "metadata": {},
   "outputs": [],
   "source": []
  },
  {
   "cell_type": "code",
   "execution_count": null,
   "metadata": {},
   "outputs": [],
   "source": []
  },
  {
   "cell_type": "code",
   "execution_count": null,
   "metadata": {},
   "outputs": [],
   "source": []
  }
 ],
 "metadata": {
  "kernelspec": {
   "display_name": "NLP Env",
   "language": "python",
   "name": "nlp_env"
  },
  "language_info": {
   "codemirror_mode": {
    "name": "ipython",
    "version": 3
   },
   "file_extension": ".py",
   "mimetype": "text/x-python",
   "name": "python",
   "nbconvert_exporter": "python",
   "pygments_lexer": "ipython3",
   "version": "3.6.11"
  }
 },
 "nbformat": 4,
 "nbformat_minor": 4
}
